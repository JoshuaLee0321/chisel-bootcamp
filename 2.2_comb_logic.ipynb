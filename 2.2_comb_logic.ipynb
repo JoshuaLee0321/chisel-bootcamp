{
 "cells": [
  {
   "cell_type": "markdown",
   "metadata": {},
   "source": [
    "<a name=\"top\"></a><img src=\"images/chisel_1024.png\" alt=\"Chisel logo\" style=\"width:480px;\" />"
   ]
  },
  {
   "cell_type": "markdown",
   "metadata": {
    "collapsed": true
   },
   "source": [
    "# Module 2.2: Combinational Logic\n",
    "**Prev: [Your First Chisel Module](2.1_first_module.ipynb)**<br>\n",
    "**Next: [Control Flow](2.3_control_flow.ipynb)**\n",
    "\n",
    "## Motivation\n",
    "In this section you will see how to use Chisel components to implement combinational logic.\n",
    "We will demonstrate how three of the basic Chisel types: `UInt `- unsigned integer; `SInt` - signed integer, and `Bool` - true or false may be connected and operated upon.\n",
    "Notice how all Chisel variables are declared as Scala `val`s.\n",
    "Never use a Scala `var` for a hardware construct, since the construct itself may never change once defined; only its value may change when running the hardware.\n",
    "Wires may be used for parameterized types.\n",
    "\n",
    "## Setup"
   ]
  },
  {
   "cell_type": "code",
   "execution_count": 1,
   "metadata": {},
   "outputs": [
    {
     "data": {
      "text/plain": [
       "\u001b[36mpath\u001b[39m: \u001b[32mString\u001b[39m = \u001b[32m\"/home/joshua/chisel-bootcamp/source/load-ivy.sc\"\u001b[39m"
      ]
     },
     "execution_count": 1,
     "metadata": {},
     "output_type": "execute_result"
    }
   ],
   "source": [
    "val path = System.getProperty(\"user.dir\") + \"/source/load-ivy.sc\"\n",
    "interp.load.module(ammonite.ops.Path(java.nio.file.FileSystems.getDefault().getPath(path)))"
   ]
  },
  {
   "cell_type": "code",
   "execution_count": 2,
   "metadata": {},
   "outputs": [
    {
     "data": {
      "text/plain": [
       "\u001b[32mimport \u001b[39m\u001b[36mchisel3._\n",
       "\u001b[39m\n",
       "\u001b[32mimport \u001b[39m\u001b[36mchisel3.util._\n",
       "\u001b[39m\n",
       "\u001b[32mimport \u001b[39m\u001b[36mchisel3.tester._\n",
       "\u001b[39m\n",
       "\u001b[32mimport \u001b[39m\u001b[36mchisel3.tester.RawTester.test\u001b[39m"
      ]
     },
     "execution_count": 2,
     "metadata": {},
     "output_type": "execute_result"
    }
   ],
   "source": [
    "import chisel3._\n",
    "import chisel3.util._\n",
    "import chisel3.tester._\n",
    "import chisel3.tester.RawTester.test"
   ]
  },
  {
   "cell_type": "markdown",
   "metadata": {},
   "source": [
    "---\n",
    "# Common Operators\n",
    "Now that you understand how `Module`s are constructed, let's make some hardware! Take a look at the empty module below."
   ]
  },
  {
   "cell_type": "code",
   "execution_count": 5,
   "metadata": {},
   "outputs": [
    {
     "data": {
      "text/plain": [
       "defined \u001b[32mclass\u001b[39m \u001b[36mMyModule\u001b[39m"
      ]
     },
     "execution_count": 5,
     "metadata": {},
     "output_type": "execute_result"
    }
   ],
   "source": [
    "class MyModule extends Module {\n",
    "  val io = IO(new Bundle {\n",
    "    val in  = Input(UInt(4.W))\n",
    "    val out = Output(UInt(4.W))\n",
    "  })\n",
    "  io.out := io.in\n",
    "}"
   ]
  },
  {
   "cell_type": "code",
   "execution_count": 5,
   "metadata": {},
   "outputs": [
    {
     "name": "stderr",
     "output_type": "stream",
     "text": [
      "cmd5.sc:3: value expects is not a member of chisel3.UInt\n",
      "    c.io.out.expects(40.U)\n",
      "             ^"
     ]
    },
    {
     "name": "stderr",
     "output_type": "stream",
     "text": [
      "Compilation Failed"
     ]
    },
    {
     "ename": "",
     "evalue": "",
     "output_type": "error",
     "traceback": [
      "Compilation Failed"
     ]
    }
   ],
   "source": []
  },
  {
   "cell_type": "markdown",
   "metadata": {},
   "source": [
    "We've called our class `MyModule`, and it extends `Module`. This means it gets mapped to a hardware module in Verilog. Our `MyModule` module has one input and one output. The input is a 4-bit unsigned integer (`UInt`), and so is the output. \n",
    "\n",
    "<span style=\"color:blue\">**Example: Scala and Chisel Operators Look the Same**</span><br>\n",
    "Let's look at different operations we can perform on data."
   ]
  },
  {
   "cell_type": "code",
   "execution_count": 8,
   "metadata": {},
   "outputs": [
    {
     "name": "stdout",
     "output_type": "stream",
     "text": [
      "Elaborating design...\n",
      "2\n",
      "UInt<1>(OpResult in MyModule)\n",
      "Done elaborating.\n",
      "module MyModule(\n",
      "  input        clock,\n",
      "  input        reset,\n",
      "  input  [3:0] io_in,\n",
      "  output [3:0] io_out\n",
      ");\n",
      "  assign io_out = io_in; // @[cmd7.sc 12:10]\n",
      "endmodule\n",
      "\n"
     ]
    },
    {
     "data": {
      "text/plain": [
       "defined \u001b[32mclass\u001b[39m \u001b[36mMyModule\u001b[39m"
      ]
     },
     "execution_count": 8,
     "metadata": {},
     "output_type": "execute_result"
    }
   ],
   "source": [
    "class MyModule extends Module {\n",
    "  val io = IO(new Bundle {\n",
    "    val in  = Input(UInt(4.W))\n",
    "    val out = Output(UInt(4.W))\n",
    "  })\n",
    "\n",
    "  val two  = 1 + 1\n",
    "  println(two)\n",
    "  val utwo = 1.U + 1.U\n",
    "  println(utwo)\n",
    "  \n",
    "  io.out := io.in\n",
    "}\n",
    "println(getVerilog(new MyModule))\n"
   ]
  },
  {
   "cell_type": "markdown",
   "metadata": {},
   "source": [
    "We create two `val`s. The first adds two Scala `Int`s, so `println` prints out the integer 2. The second `val` adds two *Chisel* `UInt`s together, so `println` sees this as a hardware node and prints out the type name and pointer (`chisel3.core.UInt@d`). Note that `1.U` is a type cast from a Scala `Int` (1) to a Chisel `UInt` literal.\n",
    "\n",
    "We need to drive the output to something, so we just connect it to the input for now, as with the passthrough module in the previous tutorial.\n",
    "\n",
    "<span style=\"color:blue\">**Example: Incompatible Operation**</span><br>\n",
    "What happens if we add a Chisel `1.U` to the literal `1`? These types are incompatible, as the former is a hardware wire of value 1, while the latter is a Scala value of 1. So Chisel will give a type mismatch error."
   ]
  },
  {
   "cell_type": "code",
   "execution_count": 14,
   "metadata": {},
   "outputs": [
    {
     "name": "stdout",
     "output_type": "stream",
     "text": [
      "Elaborating design...\n",
      "UInt<1>(OpResult in MyModuleTwo)\n",
      "Done elaborating.\n",
      "module MyModuleTwo(\n",
      "  input        clock,\n",
      "  input        reset,\n",
      "  input  [3:0] io_in,\n",
      "  output [3:0] io_out\n",
      ");\n",
      "  assign io_out = 4'h0; // @[cmd13.sc 7:20]\n",
      "endmodule\n",
      "\n"
     ]
    },
    {
     "data": {
      "text/plain": [
       "defined \u001b[32mclass\u001b[39m \u001b[36mMyModuleTwo\u001b[39m"
      ]
     },
     "execution_count": 14,
     "metadata": {},
     "output_type": "execute_result"
    }
   ],
   "source": [
    "class MyModuleTwo extends Module {\n",
    "  val io = IO(new Bundle {\n",
    "    val in  = Input(UInt(4.W))\n",
    "    val out = Output(UInt(4.W))\n",
    "  })\n",
    "\n",
    "  val twotwo = 1.U + 1.U\n",
    "  println(twotwo)\n",
    "  \n",
    "  io.out := twotwo\n",
    "}\n",
    "println(getVerilog(new MyModuleTwo))\n"
   ]
  },
  {
   "cell_type": "markdown",
   "metadata": {},
   "source": [
    "It's important to remember the distinction between types when performing operations. Scala is a strongly typed language, so any type casting must be explicit.\n",
    "\n",
    "<span style=\"color:blue\">**Example: More Chisel Operators**</span><br>\n",
    "Other common operations are subtraction and multiplication. These are handled on unsigned integers as expected. Let's  see these in action. We show the Verilog, though there's some underlying Chisel features that obfuscate the simple code we would expect."
   ]
  },
  {
   "cell_type": "code",
   "execution_count": 15,
   "metadata": {},
   "outputs": [
    {
     "name": "stdout",
     "output_type": "stream",
     "text": [
      "Elaborating design...\n",
      "Done elaborating.\n",
      "module MyOperators(\n",
      "  input        clock,\n",
      "  input        reset,\n",
      "  input  [3:0] io_in,\n",
      "  output [3:0] io_out_add,\n",
      "  output [3:0] io_out_sub,\n",
      "  output [3:0] io_out_mul\n",
      ");\n",
      "  wire [1:0] _T_3 = 2'h2 - 2'h1; // @[cmd14.sc 10:21]\n",
      "  wire [4:0] _T_4 = 3'h4 * 2'h2; // @[cmd14.sc 11:21]\n",
      "  assign io_out_add = 4'h5; // @[cmd14.sc 9:21]\n",
      "  assign io_out_sub = {{2'd0}, _T_3}; // @[cmd14.sc 10:21]\n",
      "  assign io_out_mul = _T_4[3:0]; // @[cmd14.sc 11:14]\n",
      "endmodule\n",
      "\n"
     ]
    },
    {
     "data": {
      "text/html": [
       "<div width=\"100%\" height=\"100%\" overflow=\"scroll\"><?xml version=\"1.0\" encoding=\"UTF-8\" standalone=\"no\"?>\n",
       "<?xml-stylesheet href=\"styles.css\" type=\"text/css\"?>\n",
       "<!DOCTYPE svg PUBLIC \"-//W3C//DTD SVG 1.1//EN\"\n",
       " \"http://www.w3.org/Graphics/SVG/1.1/DTD/svg11.dtd\">\n",
       "<!-- Generated by graphviz version 2.43.0 (0)\n",
       " -->\n",
       "<!-- Title: MyOperators Pages: 1 -->\n",
       "<svg width=\"588pt\" height=\"413pt\"\n",
       " viewBox=\"0.00 0.00 588.00 413.00\" xmlns=\"http://www.w3.org/2000/svg\" xmlns:xlink=\"http://www.w3.org/1999/xlink\">\n",
       "<g id=\"graph0\" class=\"graph\" transform=\"scale(1 1) rotate(0) translate(4 409)\">\n",
       "<title>MyOperators</title>\n",
       "<polygon fill=\"white\" stroke=\"transparent\" points=\"-4,4 -4,-409 584,-409 584,4 -4,4\"/>\n",
       "<g id=\"clust1\" class=\"cluster\">\n",
       "<title>cluster_MyOperators</title>\n",
       "<polygon fill=\"#fff8dc\" stroke=\"black\" points=\"8,-8 8,-397 572,-397 572,-8 8,-8\"/>\n",
       "<text text-anchor=\"middle\" x=\"290\" y=\"-381.8\" font-family=\"Times,serif\" font-size=\"14.00\">MyOperators</text>\n",
       "</g>\n",
       "<!-- cluster_MyOperators_clock -->\n",
       "<g id=\"node1\" class=\"node\">\n",
       "<title>cluster_MyOperators_clock</title>\n",
       "<polygon fill=\"#cccccc\" stroke=\"black\" points=\"96,-366 42,-366 42,-330 96,-330 96,-366\"/>\n",
       "<text text-anchor=\"middle\" x=\"69\" y=\"-344.3\" font-family=\"Times,serif\" font-size=\"14.00\">clock</text>\n",
       "</g>\n",
       "<!-- cluster_MyOperators_reset -->\n",
       "<g id=\"node2\" class=\"node\">\n",
       "<title>cluster_MyOperators_reset</title>\n",
       "<polygon fill=\"#cccccc\" stroke=\"black\" points=\"96,-312 42,-312 42,-276 96,-276 96,-312\"/>\n",
       "<text text-anchor=\"middle\" x=\"69\" y=\"-290.3\" font-family=\"Times,serif\" font-size=\"14.00\">reset</text>\n",
       "</g>\n",
       "<!-- cluster_MyOperators_io_in -->\n",
       "<g id=\"node3\" class=\"node\">\n",
       "<title>cluster_MyOperators_io_in</title>\n",
       "<polygon fill=\"#cccccc\" stroke=\"black\" points=\"96,-258 42,-258 42,-222 96,-222 96,-258\"/>\n",
       "<text text-anchor=\"middle\" x=\"69\" y=\"-236.3\" font-family=\"Times,serif\" font-size=\"14.00\">io_in</text>\n",
       "</g>\n",
       "<!-- cluster_MyOperators_io_out_add -->\n",
       "<g id=\"node4\" class=\"node\">\n",
       "<title>cluster_MyOperators_io_out_add</title>\n",
       "<polygon fill=\"#e0ffff\" stroke=\"black\" points=\"271,-204 179,-204 179,-168 271,-168 271,-204\"/>\n",
       "<text text-anchor=\"middle\" x=\"225\" y=\"-182.3\" font-family=\"Times,serif\" font-size=\"14.00\">io_out_add</text>\n",
       "</g>\n",
       "<!-- cluster_MyOperators_io_out_sub -->\n",
       "<g id=\"node5\" class=\"node\">\n",
       "<title>cluster_MyOperators_io_out_sub</title>\n",
       "<polygon fill=\"#e0ffff\" stroke=\"black\" points=\"564,-139 472,-139 472,-103 564,-103 564,-139\"/>\n",
       "<text text-anchor=\"middle\" x=\"518\" y=\"-117.3\" font-family=\"Times,serif\" font-size=\"14.00\">io_out_sub</text>\n",
       "</g>\n",
       "<!-- cluster_MyOperators_io_out_mul -->\n",
       "<g id=\"node6\" class=\"node\">\n",
       "<title>cluster_MyOperators_io_out_mul</title>\n",
       "<polygon fill=\"#e0ffff\" stroke=\"black\" points=\"428.5,-63 335.5,-63 335.5,-27 428.5,-27 428.5,-63\"/>\n",
       "<text text-anchor=\"middle\" x=\"382\" y=\"-41.3\" font-family=\"Times,serif\" font-size=\"14.00\">io_out_mul</text>\n",
       "</g>\n",
       "<!-- cluster_MyOperators_lit4 -->\n",
       "<g id=\"node7\" class=\"node\">\n",
       "<title>cluster_MyOperators_lit4</title>\n",
       "<ellipse fill=\"lightgrey\" stroke=\"black\" cx=\"69\" cy=\"-186\" rx=\"18\" ry=\"18\"/>\n",
       "<text text-anchor=\"middle\" x=\"69\" y=\"-182.3\" font-family=\"Times,serif\" font-size=\"14.00\">5</text>\n",
       "</g>\n",
       "<!-- cluster_MyOperators_lit4&#45;&gt;cluster_MyOperators_io_out_add -->\n",
       "<g id=\"edge4\" class=\"edge\">\n",
       "<title>cluster_MyOperators_lit4&#45;&gt;cluster_MyOperators_io_out_add</title>\n",
       "<path fill=\"none\" stroke=\"black\" d=\"M87.07,-186C106.67,-186 139.82,-186 168.6,-186\"/>\n",
       "<polygon fill=\"black\" stroke=\"black\" points=\"168.97,-189.5 178.97,-186 168.97,-182.5 168.97,-189.5\"/>\n",
       "</g>\n",
       "<!-- op_pad_5 -->\n",
       "<g id=\"node8\" class=\"node\">\n",
       "<title>op_pad_5</title>\n",
       "<polygon fill=\"#d8bfd8\" stroke=\"transparent\" points=\"336,-109.5 336,-134.5 428,-134.5 428,-109.5 336,-109.5\"/>\n",
       "<polygon fill=\"none\" stroke=\"black\" points=\"336,-109 336,-134 359,-134 359,-109 336,-109\"/>\n",
       "<text text-anchor=\"start\" x=\"341\" y=\"-117.8\" font-family=\"Times,serif\" font-size=\"14.00\">●</text>\n",
       "<polygon fill=\"none\" stroke=\"black\" points=\"359,-109 359,-134 405,-134 405,-109 359,-109\"/>\n",
       "<text text-anchor=\"start\" x=\"364\" y=\"-117.8\" font-family=\"Times,serif\" font-size=\"14.00\"> pad </text>\n",
       "<polygon fill=\"none\" stroke=\"black\" points=\"405,-109 405,-134 428,-134 428,-109 405,-109\"/>\n",
       "<text text-anchor=\"start\" x=\"410\" y=\"-117.8\" font-family=\"Times,serif\" font-size=\"14.00\">●</text>\n",
       "</g>\n",
       "<!-- op_pad_5&#45;&gt;cluster_MyOperators_io_out_sub -->\n",
       "<g id=\"edge6\" class=\"edge\">\n",
       "<title>op_pad_5:out&#45;&gt;cluster_MyOperators_io_out_sub</title>\n",
       "<path fill=\"none\" stroke=\"black\" d=\"M429,-121C439.54,-121 450.78,-121 461.59,-121\"/>\n",
       "<polygon fill=\"black\" stroke=\"black\" points=\"461.78,-124.5 471.78,-121 461.78,-117.5 461.78,-124.5\"/>\n",
       "</g>\n",
       "<!-- op_tail_6 -->\n",
       "<g id=\"node9\" class=\"node\">\n",
       "<title>op_tail_6</title>\n",
       "<polygon fill=\"#d8bfd8\" stroke=\"transparent\" points=\"180.5,-96 180.5,-146 269.5,-146 269.5,-96 180.5,-96\"/>\n",
       "<polygon fill=\"none\" stroke=\"black\" points=\"181,-121 181,-146 204,-146 204,-121 181,-121\"/>\n",
       "<text text-anchor=\"start\" x=\"186\" y=\"-129.8\" font-family=\"Times,serif\" font-size=\"14.00\">●</text>\n",
       "<polygon fill=\"none\" stroke=\"black\" points=\"204,-96 204,-146 247,-146 247,-96 204,-96\"/>\n",
       "<text text-anchor=\"start\" x=\"209\" y=\"-117.3\" font-family=\"Times,serif\" font-size=\"14.00\"> tail </text>\n",
       "<polygon fill=\"none\" stroke=\"black\" points=\"247,-96 247,-146 270,-146 270,-96 247,-96\"/>\n",
       "<text text-anchor=\"start\" x=\"252\" y=\"-117.3\" font-family=\"Times,serif\" font-size=\"14.00\">●</text>\n",
       "<polygon fill=\"none\" stroke=\"black\" points=\"181,-96 181,-121 204,-121 204,-96 181,-96\"/>\n",
       "<text text-anchor=\"start\" x=\"187.5\" y=\"-104.8\" font-family=\"Times,serif\" font-size=\"14.00\">1</text>\n",
       "</g>\n",
       "<!-- op_tail_6&#45;&gt;op_pad_5 -->\n",
       "<g id=\"edge5\" class=\"edge\">\n",
       "<title>op_tail_6:out&#45;&gt;op_pad_5:in1</title>\n",
       "<path fill=\"none\" stroke=\"black\" d=\"M271,-121C295.78,-121 304.37,-121 324.97,-121\"/>\n",
       "<polygon fill=\"black\" stroke=\"black\" points=\"325,-124.5 335,-121 325,-117.5 325,-124.5\"/>\n",
       "</g>\n",
       "<!-- op_sub_7 -->\n",
       "<g id=\"node10\" class=\"node\">\n",
       "<title>op_sub_7</title>\n",
       "<polygon fill=\"#d8bfd8\" stroke=\"transparent\" points=\"25,-96 25,-146 113,-146 113,-96 25,-96\"/>\n",
       "<polygon fill=\"none\" stroke=\"black\" points=\"25,-121 25,-146 45,-146 45,-121 25,-121\"/>\n",
       "<text text-anchor=\"start\" x=\"30\" y=\"-129.8\" font-family=\"Times,serif\" font-size=\"14.00\">2</text>\n",
       "<polygon fill=\"none\" stroke=\"black\" points=\"45,-96 45,-146 90,-146 90,-96 45,-96\"/>\n",
       "<text text-anchor=\"start\" x=\"50\" y=\"-117.3\" font-family=\"Times,serif\" font-size=\"14.00\"> sub </text>\n",
       "<polygon fill=\"none\" stroke=\"black\" points=\"90,-96 90,-146 113,-146 113,-96 90,-96\"/>\n",
       "<text text-anchor=\"start\" x=\"95\" y=\"-117.3\" font-family=\"Times,serif\" font-size=\"14.00\">●</text>\n",
       "<polygon fill=\"none\" stroke=\"black\" points=\"25,-96 25,-121 45,-121 45,-96 25,-96\"/>\n",
       "<text text-anchor=\"start\" x=\"30\" y=\"-104.8\" font-family=\"Times,serif\" font-size=\"14.00\">1</text>\n",
       "</g>\n",
       "<!-- op_sub_7&#45;&gt;op_tail_6 -->\n",
       "<g id=\"edge2\" class=\"edge\">\n",
       "<title>op_sub_7:out&#45;&gt;op_tail_6:in1</title>\n",
       "<path fill=\"none\" stroke=\"black\" d=\"M114,-121C140.16,-121 148.18,-130.95 169.81,-133.44\"/>\n",
       "<polygon fill=\"black\" stroke=\"black\" points=\"169.82,-136.95 180,-134 170.21,-129.96 169.82,-136.95\"/>\n",
       "</g>\n",
       "<!-- op_bits_8 -->\n",
       "<g id=\"node11\" class=\"node\">\n",
       "<title>op_bits_8</title>\n",
       "<polygon fill=\"#d8bfd8\" stroke=\"transparent\" points=\"166,-20 166,-70 284,-70 284,-20 166,-20\"/>\n",
       "<polygon fill=\"none\" stroke=\"black\" points=\"166,-45 166,-70 214,-70 214,-45 166,-45\"/>\n",
       "<text text-anchor=\"start\" x=\"183.5\" y=\"-53.8\" font-family=\"Times,serif\" font-size=\"14.00\">●</text>\n",
       "<polygon fill=\"none\" stroke=\"black\" points=\"214,-20 214,-70 261,-70 261,-20 214,-20\"/>\n",
       "<text text-anchor=\"start\" x=\"219\" y=\"-41.3\" font-family=\"Times,serif\" font-size=\"14.00\"> bits </text>\n",
       "<polygon fill=\"none\" stroke=\"black\" points=\"261,-20 261,-70 284,-70 284,-20 261,-20\"/>\n",
       "<text text-anchor=\"start\" x=\"266\" y=\"-41.3\" font-family=\"Times,serif\" font-size=\"14.00\">●</text>\n",
       "<polygon fill=\"none\" stroke=\"black\" points=\"166,-20 166,-45 214,-45 214,-20 166,-20\"/>\n",
       "<text text-anchor=\"start\" x=\"171\" y=\"-28.8\" font-family=\"Times,serif\" font-size=\"14.00\">(3, 0)</text>\n",
       "</g>\n",
       "<!-- op_bits_8&#45;&gt;cluster_MyOperators_io_out_mul -->\n",
       "<g id=\"edge3\" class=\"edge\">\n",
       "<title>op_bits_8:out&#45;&gt;cluster_MyOperators_io_out_mul</title>\n",
       "<path fill=\"none\" stroke=\"black\" d=\"M285,-45C297.89,-45 311.75,-45 324.82,-45\"/>\n",
       "<polygon fill=\"black\" stroke=\"black\" points=\"325.1,-48.5 335.1,-45 325.1,-41.5 325.1,-48.5\"/>\n",
       "</g>\n",
       "<!-- op_mul_9 -->\n",
       "<g id=\"node12\" class=\"node\">\n",
       "<title>op_mul_9</title>\n",
       "<polygon fill=\"#d8bfd8\" stroke=\"transparent\" points=\"24,-20 24,-70 114,-70 114,-20 24,-20\"/>\n",
       "<polygon fill=\"none\" stroke=\"black\" points=\"24,-45 24,-70 44,-70 44,-45 24,-45\"/>\n",
       "<text text-anchor=\"start\" x=\"29\" y=\"-53.8\" font-family=\"Times,serif\" font-size=\"14.00\">4</text>\n",
       "<polygon fill=\"none\" stroke=\"black\" points=\"44,-20 44,-70 91,-70 91,-20 44,-20\"/>\n",
       "<text text-anchor=\"start\" x=\"49\" y=\"-41.3\" font-family=\"Times,serif\" font-size=\"14.00\"> mul </text>\n",
       "<polygon fill=\"none\" stroke=\"black\" points=\"91,-20 91,-70 114,-70 114,-20 91,-20\"/>\n",
       "<text text-anchor=\"start\" x=\"96\" y=\"-41.3\" font-family=\"Times,serif\" font-size=\"14.00\">●</text>\n",
       "<polygon fill=\"none\" stroke=\"black\" points=\"24,-20 24,-45 44,-45 44,-20 24,-20\"/>\n",
       "<text text-anchor=\"start\" x=\"29\" y=\"-28.8\" font-family=\"Times,serif\" font-size=\"14.00\">2</text>\n",
       "</g>\n",
       "<!-- op_mul_9&#45;&gt;op_bits_8 -->\n",
       "<g id=\"edge1\" class=\"edge\">\n",
       "<title>op_mul_9:out&#45;&gt;op_bits_8:in1</title>\n",
       "<path fill=\"none\" stroke=\"black\" d=\"M115,-45C134.01,-45 140.08,-53.92 154.64,-56.98\"/>\n",
       "<polygon fill=\"black\" stroke=\"black\" points=\"154.71,-60.5 165,-58 155.39,-53.54 154.71,-60.5\"/>\n",
       "</g>\n",
       "</g>\n",
       "</svg>\n",
       "</div>"
      ]
     },
     "metadata": {},
     "output_type": "display_data"
    },
    {
     "data": {
      "text/plain": [
       "defined \u001b[32mclass\u001b[39m \u001b[36mMyOperators\u001b[39m"
      ]
     },
     "execution_count": 15,
     "metadata": {},
     "output_type": "execute_result"
    }
   ],
   "source": [
    "class MyOperators extends Module {\n",
    "  val io = IO(new Bundle {\n",
    "    val in      = Input(UInt(4.W))\n",
    "    val out_add = Output(UInt(4.W))\n",
    "    val out_sub = Output(UInt(4.W))\n",
    "    val out_mul = Output(UInt(4.W))\n",
    "  })\n",
    "\n",
    "  io.out_add := 1.U + 4.U\n",
    "  io.out_sub := 2.U - 1.U\n",
    "  io.out_mul := 4.U * 2.U\n",
    "}\n",
    "println(getVerilog(new MyOperators))\n",
    "visualize(() => new MyOperators)"
   ]
  },
  {
   "cell_type": "markdown",
   "metadata": {},
   "source": [
    "And here's a sample tester for the above operations. Instead of using an anonymous tester class like in the previous tutorial, we'll create an explicit tester class. This is just an alternative way of writing a tester."
   ]
  },
  {
   "cell_type": "code",
   "execution_count": 16,
   "metadata": {},
   "outputs": [
    {
     "name": "stdout",
     "output_type": "stream",
     "text": [
      "Elaborating design...\n",
      "Done elaborating.\n",
      "test MyOperators Success: 0 tests passed in 2 cycles in 0.020726 seconds 96.50 Hz\n",
      "SUCCESS!!\n"
     ]
    }
   ],
   "source": [
    "test(new MyOperators) {c =>\n",
    "  c.io.out_add.expect(5.U)\n",
    "  c.io.out_sub.expect(1.U)\n",
    "  c.io.out_mul.expect(8.U)\n",
    "}\n",
    "println(\"SUCCESS!!\")"
   ]
  },
  {
   "cell_type": "markdown",
   "metadata": {},
   "source": [
    "<span style=\"color:blue\">**Example: Mux and Concatenation**</span><br>\n",
    "In addition to addition, subtraction, and multplication, Chisel has mux and concatenation operators. These are shown below. The `Mux` operates like a traditional ternary operator, with the order (select, value if true, value if false). Note that `true.B` and `false.B` are the preferred ways to create Chisel Bool literals. The `Cat` ordering is MSB then LSB (where B refers to bit or bits), and only takes two arguments. Concatenating more than two values requires multiple `Cat` calls or advanced Chisel and Scala features covered in later sections."
   ]
  },
  {
   "cell_type": "code",
   "execution_count": 16,
   "metadata": {},
   "outputs": [
    {
     "name": "stderr",
     "output_type": "stream",
     "text": [
      "cmd16.sc:9: value :>= is not a member of chisel3.UInt\n",
      "  Expression does not convert to assignment because receiver is not assignable.\n",
      "  io.out_mux :>= 1.U\n",
      "             ^Compilation Failed"
     ]
    },
    {
     "ename": "",
     "evalue": "",
     "output_type": "error",
     "traceback": [
      "Compilation Failed"
     ]
    }
   ],
   "source": [
    "class MyOperatorsTwo extends Module {\n",
    "  val io = IO(new Bundle {\n",
    "    val in      = Input(UInt(4.W))\n",
    "    val out_mux = Output(UInt(4.W))\n",
    "    val out_cat = Output(UInt(4.W))\n",
    "  })\n",
    "\n",
    "  val s = true.B\n",
    "  \n",
    "  io.out_mux := Mux(s, 3.U, 0.U) // should return 3.U, since s is true\n",
    "  io.out_cat := Cat(2.U, 1.U)    // concatenates 2 (b10) with 1 (b1) to give 5 (101)\n",
    "}\n",
    "\n",
    "println(getVerilog(new MyOperatorsTwo))\n",
    "\n",
    "test(new MyOperatorsTwo) { c =>\n",
    "  c.io.out_mux.expect(3.U)\n",
    "  c.io.out_cat.expect(5.U)\n",
    "}\n",
    "visualize(()=>new MyOperatorsTwo)\n",
    "println(\"SUCCESS!!\")"
   ]
  },
  {
   "cell_type": "markdown",
   "metadata": {
    "collapsed": true
   },
   "source": [
    "Notice how the Verilog contains constants instead of actual mux or concatenation logic. This is because FIRRTL transformations have simplified the circuit, eliminating obvious logic. \n",
    "\n",
    "For a more complete list of Chisel operators, see the [Chisel cheatsheet](https://github.com/freechipsproject/chisel-cheatsheet/releases/latest/download/chisel_cheatsheet.pdf). For the most complete list of operators and their implementation details, look through the [Chisel API](https://chisel-lang.org/api/latest/)."
   ]
  },
  {
   "cell_type": "markdown",
   "metadata": {},
   "source": [
    "---\n",
    "# Exercises\n",
    "To complete these exercises, you may need to look through the [Chisel cheatsheet](https://github.com/freechipsproject/chisel-cheatsheet/releases/latest/download/chisel_cheatsheet.pdf)."
   ]
  },
  {
   "cell_type": "markdown",
   "metadata": {},
   "source": [
    "<span style=\"color:red\">**Exercise: MAC**</span><br>\n",
    "Create a Chisel module that implements the multiply accumulate function, `(A*B)+C`, and passes the testbench."
   ]
  },
  {
   "cell_type": "code",
   "execution_count": 18,
   "metadata": {},
   "outputs": [
    {
     "data": {
      "text/html": [
       "<div width=\"100%\" height=\"100%\" overflow=\"scroll\"><?xml version=\"1.0\" encoding=\"UTF-8\" standalone=\"no\"?>\n",
       "<?xml-stylesheet href=\"styles.css\" type=\"text/css\"?>\n",
       "<!DOCTYPE svg PUBLIC \"-//W3C//DTD SVG 1.1//EN\"\n",
       " \"http://www.w3.org/Graphics/SVG/1.1/DTD/svg11.dtd\">\n",
       "<!-- Generated by graphviz version 2.43.0 (0)\n",
       " -->\n",
       "<!-- Title: MAC Pages: 1 -->\n",
       "<svg width=\"774pt\" height=\"261pt\"\n",
       " viewBox=\"0.00 0.00 774.00 261.00\" xmlns=\"http://www.w3.org/2000/svg\" xmlns:xlink=\"http://www.w3.org/1999/xlink\">\n",
       "<g id=\"graph0\" class=\"graph\" transform=\"scale(1 1) rotate(0) translate(4 257)\">\n",
       "<title>MAC</title>\n",
       "<polygon fill=\"white\" stroke=\"transparent\" points=\"-4,4 -4,-257 770,-257 770,4 -4,4\"/>\n",
       "<g id=\"clust1\" class=\"cluster\">\n",
       "<title>cluster_MAC</title>\n",
       "<polygon fill=\"#fff8dc\" stroke=\"black\" points=\"8,-8 8,-245 758,-245 758,-8 8,-8\"/>\n",
       "<text text-anchor=\"middle\" x=\"383\" y=\"-229.8\" font-family=\"Times,serif\" font-size=\"14.00\">MAC</text>\n",
       "</g>\n",
       "<!-- cluster_MAC_clock -->\n",
       "<g id=\"node1\" class=\"node\">\n",
       "<title>cluster_MAC_clock</title>\n",
       "<polygon fill=\"#cccccc\" stroke=\"black\" points=\"75.5,-214 21.5,-214 21.5,-178 75.5,-178 75.5,-214\"/>\n",
       "<text text-anchor=\"middle\" x=\"48.5\" y=\"-192.3\" font-family=\"Times,serif\" font-size=\"14.00\">clock</text>\n",
       "</g>\n",
       "<!-- cluster_MAC_reset -->\n",
       "<g id=\"node2\" class=\"node\">\n",
       "<title>cluster_MAC_reset</title>\n",
       "<polygon fill=\"#cccccc\" stroke=\"black\" points=\"75.5,-160 21.5,-160 21.5,-124 75.5,-124 75.5,-160\"/>\n",
       "<text text-anchor=\"middle\" x=\"48.5\" y=\"-138.3\" font-family=\"Times,serif\" font-size=\"14.00\">reset</text>\n",
       "</g>\n",
       "<!-- cluster_MAC_io_in_a -->\n",
       "<g id=\"node3\" class=\"node\">\n",
       "<title>cluster_MAC_io_in_a</title>\n",
       "<polygon fill=\"#cccccc\" stroke=\"black\" points=\"81,-106 16,-106 16,-70 81,-70 81,-106\"/>\n",
       "<text text-anchor=\"middle\" x=\"48.5\" y=\"-84.3\" font-family=\"Times,serif\" font-size=\"14.00\">io_in_a</text>\n",
       "</g>\n",
       "<!-- op_mul_10 -->\n",
       "<g id=\"node8\" class=\"node\">\n",
       "<title>op_mul_10</title>\n",
       "<polygon fill=\"#d8bfd8\" stroke=\"transparent\" points=\"125,-74 125,-124 218,-124 218,-74 125,-74\"/>\n",
       "<polygon fill=\"none\" stroke=\"black\" points=\"125.5,-99 125.5,-124 148.5,-124 148.5,-99 125.5,-99\"/>\n",
       "<text text-anchor=\"start\" x=\"130.5\" y=\"-107.8\" font-family=\"Times,serif\" font-size=\"14.00\">●</text>\n",
       "<polygon fill=\"none\" stroke=\"black\" points=\"148.5,-74 148.5,-124 195.5,-124 195.5,-74 148.5,-74\"/>\n",
       "<text text-anchor=\"start\" x=\"153.5\" y=\"-95.3\" font-family=\"Times,serif\" font-size=\"14.00\"> mul </text>\n",
       "<polygon fill=\"none\" stroke=\"black\" points=\"195.5,-74 195.5,-124 218.5,-124 218.5,-74 195.5,-74\"/>\n",
       "<text text-anchor=\"start\" x=\"200.5\" y=\"-95.3\" font-family=\"Times,serif\" font-size=\"14.00\">●</text>\n",
       "<polygon fill=\"none\" stroke=\"black\" points=\"125.5,-74 125.5,-99 148.5,-99 148.5,-74 125.5,-74\"/>\n",
       "<text text-anchor=\"start\" x=\"130.5\" y=\"-82.8\" font-family=\"Times,serif\" font-size=\"14.00\">●</text>\n",
       "</g>\n",
       "<!-- cluster_MAC_io_in_a&#45;&gt;op_mul_10 -->\n",
       "<g id=\"edge1\" class=\"edge\">\n",
       "<title>cluster_MAC_io_in_a&#45;&gt;op_mul_10:in1</title>\n",
       "<path fill=\"none\" stroke=\"black\" d=\"M81.28,-102.93C91.4,-106.7 102.97,-110.06 114.46,-111.4\"/>\n",
       "<polygon fill=\"black\" stroke=\"black\" points=\"114.31,-114.89 124.5,-112 114.73,-107.9 114.31,-114.89\"/>\n",
       "</g>\n",
       "<!-- cluster_MAC_io_in_b -->\n",
       "<g id=\"node4\" class=\"node\">\n",
       "<title>cluster_MAC_io_in_b</title>\n",
       "<polygon fill=\"#cccccc\" stroke=\"black\" points=\"81,-52 16,-52 16,-16 81,-16 81,-52\"/>\n",
       "<text text-anchor=\"middle\" x=\"48.5\" y=\"-30.3\" font-family=\"Times,serif\" font-size=\"14.00\">io_in_b</text>\n",
       "</g>\n",
       "<!-- cluster_MAC_io_in_b&#45;&gt;op_mul_10 -->\n",
       "<g id=\"edge7\" class=\"edge\">\n",
       "<title>cluster_MAC_io_in_b&#45;&gt;op_mul_10:in2</title>\n",
       "<path fill=\"none\" stroke=\"black\" d=\"M72.83,-52.19C86.97,-62.96 104.32,-75.72 115.23,-82.04\"/>\n",
       "<polygon fill=\"black\" stroke=\"black\" points=\"113.93,-85.29 124.5,-86 116.68,-78.85 113.93,-85.29\"/>\n",
       "</g>\n",
       "<!-- cluster_MAC_io_in_c -->\n",
       "<g id=\"node5\" class=\"node\">\n",
       "<title>cluster_MAC_io_in_c</title>\n",
       "<polygon fill=\"#cccccc\" stroke=\"black\" points=\"203.5,-52 139.5,-52 139.5,-16 203.5,-16 203.5,-52\"/>\n",
       "<text text-anchor=\"middle\" x=\"171.5\" y=\"-30.3\" font-family=\"Times,serif\" font-size=\"14.00\">io_in_c</text>\n",
       "</g>\n",
       "<!-- op_pad_13 -->\n",
       "<g id=\"node11\" class=\"node\">\n",
       "<title>op_pad_13</title>\n",
       "<polygon fill=\"#d8bfd8\" stroke=\"transparent\" points=\"270,-24.5 270,-49.5 362,-49.5 362,-24.5 270,-24.5\"/>\n",
       "<polygon fill=\"none\" stroke=\"black\" points=\"270,-24 270,-49 293,-49 293,-24 270,-24\"/>\n",
       "<text text-anchor=\"start\" x=\"275\" y=\"-32.8\" font-family=\"Times,serif\" font-size=\"14.00\">●</text>\n",
       "<polygon fill=\"none\" stroke=\"black\" points=\"293,-24 293,-49 339,-49 339,-24 293,-24\"/>\n",
       "<text text-anchor=\"start\" x=\"298\" y=\"-32.8\" font-family=\"Times,serif\" font-size=\"14.00\"> pad </text>\n",
       "<polygon fill=\"none\" stroke=\"black\" points=\"339,-24 339,-49 362,-49 362,-24 339,-24\"/>\n",
       "<text text-anchor=\"start\" x=\"344\" y=\"-32.8\" font-family=\"Times,serif\" font-size=\"14.00\">●</text>\n",
       "</g>\n",
       "<!-- cluster_MAC_io_in_c&#45;&gt;op_pad_13 -->\n",
       "<g id=\"edge5\" class=\"edge\">\n",
       "<title>cluster_MAC_io_in_c&#45;&gt;op_pad_13:in1</title>\n",
       "<path fill=\"none\" stroke=\"black\" d=\"M203.79,-34.98C219.79,-35.41 239.87,-35.84 258.88,-35.97\"/>\n",
       "<polygon fill=\"black\" stroke=\"black\" points=\"258.99,-39.47 269,-36 259.01,-32.47 258.99,-39.47\"/>\n",
       "</g>\n",
       "<!-- cluster_MAC_io_out -->\n",
       "<g id=\"node6\" class=\"node\">\n",
       "<title>cluster_MAC_io_out</title>\n",
       "<polygon fill=\"#e0ffff\" stroke=\"black\" points=\"750,-74 691,-74 691,-38 750,-38 750,-74\"/>\n",
       "<text text-anchor=\"middle\" x=\"720.5\" y=\"-52.3\" font-family=\"Times,serif\" font-size=\"14.00\">io_out</text>\n",
       "</g>\n",
       "<!-- cluster_MAC__T -->\n",
       "<g id=\"node7\" class=\"node\">\n",
       "<title>cluster_MAC__T</title>\n",
       "<polygon fill=\"none\" stroke=\"black\" points=\"343,-114 289,-114 289,-78 343,-78 343,-114\"/>\n",
       "<text text-anchor=\"middle\" x=\"316\" y=\"-92.3\" font-family=\"Times,serif\" font-size=\"14.00\">_T</text>\n",
       "</g>\n",
       "<!-- op_add_12 -->\n",
       "<g id=\"node10\" class=\"node\">\n",
       "<title>op_add_12</title>\n",
       "<polygon fill=\"#d8bfd8\" stroke=\"transparent\" points=\"414,-44 414,-94 506,-94 506,-44 414,-44\"/>\n",
       "<polygon fill=\"none\" stroke=\"black\" points=\"414,-69 414,-94 437,-94 437,-69 414,-69\"/>\n",
       "<text text-anchor=\"start\" x=\"419\" y=\"-77.8\" font-family=\"Times,serif\" font-size=\"14.00\">●</text>\n",
       "<polygon fill=\"none\" stroke=\"black\" points=\"437,-44 437,-94 483,-94 483,-44 437,-44\"/>\n",
       "<text text-anchor=\"start\" x=\"442\" y=\"-65.3\" font-family=\"Times,serif\" font-size=\"14.00\"> add </text>\n",
       "<polygon fill=\"none\" stroke=\"black\" points=\"483,-44 483,-94 506,-94 506,-44 483,-44\"/>\n",
       "<text text-anchor=\"start\" x=\"488\" y=\"-65.3\" font-family=\"Times,serif\" font-size=\"14.00\">●</text>\n",
       "<polygon fill=\"none\" stroke=\"black\" points=\"414,-44 414,-69 437,-69 437,-44 414,-44\"/>\n",
       "<text text-anchor=\"start\" x=\"419\" y=\"-52.8\" font-family=\"Times,serif\" font-size=\"14.00\">●</text>\n",
       "</g>\n",
       "<!-- cluster_MAC__T&#45;&gt;op_add_12 -->\n",
       "<g id=\"edge6\" class=\"edge\">\n",
       "<title>cluster_MAC__T&#45;&gt;op_add_12:in1</title>\n",
       "<path fill=\"none\" stroke=\"black\" d=\"M343.34,-90.06C359.84,-86.78 381.89,-83.19 402.83,-82.24\"/>\n",
       "<polygon fill=\"black\" stroke=\"black\" points=\"403.09,-85.73 413,-82 402.92,-78.74 403.09,-85.73\"/>\n",
       "</g>\n",
       "<!-- op_mul_10&#45;&gt;cluster_MAC__T -->\n",
       "<g id=\"edge4\" class=\"edge\">\n",
       "<title>op_mul_10:out&#45;&gt;cluster_MAC__T</title>\n",
       "<path fill=\"none\" stroke=\"black\" d=\"M219.5,-99C238.96,-99 260.64,-98.37 278.42,-97.69\"/>\n",
       "<polygon fill=\"black\" stroke=\"black\" points=\"278.81,-101.17 288.66,-97.27 278.53,-94.18 278.81,-101.17\"/>\n",
       "</g>\n",
       "<!-- op_tail_11 -->\n",
       "<g id=\"node9\" class=\"node\">\n",
       "<title>op_tail_11</title>\n",
       "<polygon fill=\"#d8bfd8\" stroke=\"transparent\" points=\"558,-31 558,-81 647,-81 647,-31 558,-31\"/>\n",
       "<polygon fill=\"none\" stroke=\"black\" points=\"558.5,-56 558.5,-81 581.5,-81 581.5,-56 558.5,-56\"/>\n",
       "<text text-anchor=\"start\" x=\"563.5\" y=\"-64.8\" font-family=\"Times,serif\" font-size=\"14.00\">●</text>\n",
       "<polygon fill=\"none\" stroke=\"black\" points=\"581.5,-31 581.5,-81 624.5,-81 624.5,-31 581.5,-31\"/>\n",
       "<text text-anchor=\"start\" x=\"586.5\" y=\"-52.3\" font-family=\"Times,serif\" font-size=\"14.00\"> tail </text>\n",
       "<polygon fill=\"none\" stroke=\"black\" points=\"624.5,-31 624.5,-81 647.5,-81 647.5,-31 624.5,-31\"/>\n",
       "<text text-anchor=\"start\" x=\"629.5\" y=\"-52.3\" font-family=\"Times,serif\" font-size=\"14.00\">●</text>\n",
       "<polygon fill=\"none\" stroke=\"black\" points=\"558.5,-31 558.5,-56 581.5,-56 581.5,-31 558.5,-31\"/>\n",
       "<text text-anchor=\"start\" x=\"565\" y=\"-39.8\" font-family=\"Times,serif\" font-size=\"14.00\">1</text>\n",
       "</g>\n",
       "<!-- op_tail_11&#45;&gt;cluster_MAC_io_out -->\n",
       "<g id=\"edge8\" class=\"edge\">\n",
       "<title>op_tail_11:out&#45;&gt;cluster_MAC_io_out</title>\n",
       "<path fill=\"none\" stroke=\"black\" d=\"M648.5,-56C658.95,-56 670.26,-56 680.72,-56\"/>\n",
       "<polygon fill=\"black\" stroke=\"black\" points=\"680.83,-59.5 690.83,-56 680.83,-52.5 680.83,-59.5\"/>\n",
       "</g>\n",
       "<!-- op_add_12&#45;&gt;op_tail_11 -->\n",
       "<g id=\"edge3\" class=\"edge\">\n",
       "<title>op_add_12:out&#45;&gt;op_tail_11:in1</title>\n",
       "<path fill=\"none\" stroke=\"black\" d=\"M507,-69C525.59,-69 532.63,-69 547.25,-69\"/>\n",
       "<polygon fill=\"black\" stroke=\"black\" points=\"547.5,-72.5 557.5,-69 547.5,-65.5 547.5,-72.5\"/>\n",
       "</g>\n",
       "<!-- op_pad_13&#45;&gt;op_add_12 -->\n",
       "<g id=\"edge2\" class=\"edge\">\n",
       "<title>op_pad_13:out&#45;&gt;op_add_12:in2</title>\n",
       "<path fill=\"none\" stroke=\"black\" d=\"M363,-36C383.01,-36 387.78,-49.98 402.79,-54.56\"/>\n",
       "<polygon fill=\"black\" stroke=\"black\" points=\"402.61,-58.07 413,-56 403.59,-51.14 402.61,-58.07\"/>\n",
       "</g>\n",
       "</g>\n",
       "</svg>\n",
       "</div>"
      ]
     },
     "metadata": {},
     "output_type": "display_data"
    },
    {
     "name": "stdout",
     "output_type": "stream",
     "text": [
      "Elaborating design...\n",
      "Done elaborating.\n",
      "test MAC Success: 0 tests passed in 2 cycles in 0.025290 seconds 79.08 Hz\n",
      "SUCCESS!!\n"
     ]
    },
    {
     "data": {
      "text/plain": [
       "defined \u001b[32mclass\u001b[39m \u001b[36mMAC\u001b[39m"
      ]
     },
     "execution_count": 18,
     "metadata": {},
     "output_type": "execute_result"
    }
   ],
   "source": [
    "class MAC extends Module {\n",
    "  val io = IO(new Bundle {\n",
    "    val in_a = Input(UInt(4.W))\n",
    "    val in_b = Input(UInt(4.W))\n",
    "    val in_c = Input(UInt(4.W))\n",
    "    val out  = Output(UInt(8.W))\n",
    "  })\n",
    "\n",
    "  io.out := (io.in_a * io.in_b) + io.in_c\n",
    "\n",
    "}\n",
    "visualize(()=>new MAC)\n",
    "test(new MAC) { c =>\n",
    "  val cycles = 100\n",
    "  import scala.util.Random\n",
    "  for (i <- 0 until cycles) {\n",
    "    val in_a = Random.nextInt(16)\n",
    "    val in_b = Random.nextInt(16)\n",
    "    val in_c = Random.nextInt(16)\n",
    "    c.io.in_a.poke(in_a.U)\n",
    "    c.io.in_b.poke(in_b.U)\n",
    "    c.io.in_c.poke(in_c.U)\n",
    "    c.io.out.expect((in_a * in_b + in_c).U)\n",
    "  }\n",
    "}\n",
    "println(\"SUCCESS!!\")"
   ]
  },
  {
   "cell_type": "markdown",
   "metadata": {},
   "source": [
    "<div id=\"container\"><section id=\"accordion\"><div>\n",
    "<input type=\"checkbox\" id=\"check-1\" />\n",
    "<label for=\"check-1\"><strong>Solution</strong></label>\n",
    "<article>\n",
    "<pre style=\"background-color:#f7f7f7\">\n",
    "class MAC extends Module {\n",
    "  val io = IO(new Bundle {\n",
    "    val in_a = Input(UInt(4.W))\n",
    "    val in_b = Input(UInt(4.W))\n",
    "    val in_c = Input(UInt(4.W))\n",
    "    val out  = Output(UInt(8.W))\n",
    "  })\n",
    "\n",
    "  io.out := (io.in_a * io.in_b) + io.in_c\n",
    "}\n",
    "</pre></article></div></section></div>"
   ]
  },
  {
   "cell_type": "markdown",
   "metadata": {
    "collapsed": true
   },
   "source": [
    "<span style=\"color:red\">**Exercise: Arbiter**</span><br>\n",
    "The following circuit arbitrates data coming from a FIFO into two parallel processing units. The FIFO and processing elements (PEs) communicate with ready-valid interfaces. Construct the arbiter to send data to whichever PE is ready to receive data, prioritizing PE0 if both are ready to receive data. Remember that the arbiter should tell the FIFO that it's ready to receive data when at least one of the PEs can receive data. Also, wait for a PE to assert that it's ready before asserting that the data are valid. You will likely need binary operators to complete this exercise.\n",
    "\n",
    "<img src=\"images/arbiter.png\" width=\"687\" height=\"177\">"
   ]
  },
  {
   "cell_type": "code",
   "execution_count": 23,
   "metadata": {},
   "outputs": [
    {
     "data": {
      "text/html": [
       "<div width=\"100%\" height=\"100%\" overflow=\"scroll\"><?xml version=\"1.0\" encoding=\"UTF-8\" standalone=\"no\"?>\n",
       "<?xml-stylesheet href=\"styles.css\" type=\"text/css\"?>\n",
       "<!DOCTYPE svg PUBLIC \"-//W3C//DTD SVG 1.1//EN\"\n",
       " \"http://www.w3.org/Graphics/SVG/1.1/DTD/svg11.dtd\">\n",
       "<!-- Generated by graphviz version 2.43.0 (0)\n",
       " -->\n",
       "<!-- Title: Arbiter Pages: 1 -->\n",
       "<svg width=\"578pt\" height=\"435pt\"\n",
       " viewBox=\"0.00 0.00 578.00 435.00\" xmlns=\"http://www.w3.org/2000/svg\" xmlns:xlink=\"http://www.w3.org/1999/xlink\">\n",
       "<g id=\"graph0\" class=\"graph\" transform=\"scale(1 1) rotate(0) translate(4 431)\">\n",
       "<title>Arbiter</title>\n",
       "<polygon fill=\"white\" stroke=\"transparent\" points=\"-4,4 -4,-431 574,-431 574,4 -4,4\"/>\n",
       "<g id=\"clust1\" class=\"cluster\">\n",
       "<title>cluster_Arbiter</title>\n",
       "<polygon fill=\"#fff8dc\" stroke=\"black\" points=\"8,-8 8,-419 562,-419 562,-8 8,-8\"/>\n",
       "<text text-anchor=\"middle\" x=\"285\" y=\"-403.8\" font-family=\"Times,serif\" font-size=\"14.00\">Arbiter</text>\n",
       "</g>\n",
       "<!-- cluster_Arbiter_clock -->\n",
       "<g id=\"node1\" class=\"node\">\n",
       "<title>cluster_Arbiter_clock</title>\n",
       "<polygon fill=\"#cccccc\" stroke=\"black\" points=\"98,-388 44,-388 44,-352 98,-352 98,-388\"/>\n",
       "<text text-anchor=\"middle\" x=\"71\" y=\"-366.3\" font-family=\"Times,serif\" font-size=\"14.00\">clock</text>\n",
       "</g>\n",
       "<!-- cluster_Arbiter_reset -->\n",
       "<g id=\"node2\" class=\"node\">\n",
       "<title>cluster_Arbiter_reset</title>\n",
       "<polygon fill=\"#cccccc\" stroke=\"black\" points=\"98,-334 44,-334 44,-298 98,-298 98,-334\"/>\n",
       "<text text-anchor=\"middle\" x=\"71\" y=\"-312.3\" font-family=\"Times,serif\" font-size=\"14.00\">reset</text>\n",
       "</g>\n",
       "<!-- cluster_Arbiter_io_fifo_valid -->\n",
       "<g id=\"node3\" class=\"node\">\n",
       "<title>cluster_Arbiter_io_fifo_valid</title>\n",
       "<polygon fill=\"#cccccc\" stroke=\"black\" points=\"121,-216 21,-216 21,-180 121,-180 121,-216\"/>\n",
       "<text text-anchor=\"middle\" x=\"71\" y=\"-194.3\" font-family=\"Times,serif\" font-size=\"14.00\">io_fifo_valid</text>\n",
       "</g>\n",
       "<!-- op_and_15 -->\n",
       "<g id=\"node13\" class=\"node\">\n",
       "<title>op_and_15</title>\n",
       "<polygon fill=\"#d8bfd8\" stroke=\"transparent\" points=\"170,-226 170,-276 262,-276 262,-226 170,-226\"/>\n",
       "<polygon fill=\"none\" stroke=\"black\" points=\"170,-251 170,-276 193,-276 193,-251 170,-251\"/>\n",
       "<text text-anchor=\"start\" x=\"175\" y=\"-259.8\" font-family=\"Times,serif\" font-size=\"14.00\">●</text>\n",
       "<polygon fill=\"none\" stroke=\"black\" points=\"193,-226 193,-276 239,-276 239,-226 193,-226\"/>\n",
       "<text text-anchor=\"start\" x=\"198\" y=\"-247.3\" font-family=\"Times,serif\" font-size=\"14.00\"> and </text>\n",
       "<polygon fill=\"none\" stroke=\"black\" points=\"239,-226 239,-276 262,-276 262,-226 239,-226\"/>\n",
       "<text text-anchor=\"start\" x=\"244\" y=\"-247.3\" font-family=\"Times,serif\" font-size=\"14.00\">●</text>\n",
       "<polygon fill=\"none\" stroke=\"black\" points=\"170,-226 170,-251 193,-251 193,-226 170,-226\"/>\n",
       "<text text-anchor=\"start\" x=\"175\" y=\"-234.8\" font-family=\"Times,serif\" font-size=\"14.00\">●</text>\n",
       "</g>\n",
       "<!-- cluster_Arbiter_io_fifo_valid&#45;&gt;op_and_15 -->\n",
       "<g id=\"edge12\" class=\"edge\">\n",
       "<title>cluster_Arbiter_io_fifo_valid&#45;&gt;op_and_15:in1</title>\n",
       "<path fill=\"none\" stroke=\"black\" d=\"M98.32,-216.03C119.05,-230.23 146.69,-249.12 160.46,-258.39\"/>\n",
       "<polygon fill=\"black\" stroke=\"black\" points=\"158.72,-261.43 169,-264 162.56,-255.58 158.72,-261.43\"/>\n",
       "</g>\n",
       "<!-- op_and_17 -->\n",
       "<g id=\"node15\" class=\"node\">\n",
       "<title>op_and_17</title>\n",
       "<polygon fill=\"#d8bfd8\" stroke=\"transparent\" points=\"170,-150 170,-200 262,-200 262,-150 170,-150\"/>\n",
       "<polygon fill=\"none\" stroke=\"black\" points=\"170,-175 170,-200 193,-200 193,-175 170,-175\"/>\n",
       "<text text-anchor=\"start\" x=\"175\" y=\"-183.8\" font-family=\"Times,serif\" font-size=\"14.00\">●</text>\n",
       "<polygon fill=\"none\" stroke=\"black\" points=\"193,-150 193,-200 239,-200 239,-150 193,-150\"/>\n",
       "<text text-anchor=\"start\" x=\"198\" y=\"-171.3\" font-family=\"Times,serif\" font-size=\"14.00\"> and </text>\n",
       "<polygon fill=\"none\" stroke=\"black\" points=\"239,-150 239,-200 262,-200 262,-150 239,-150\"/>\n",
       "<text text-anchor=\"start\" x=\"244\" y=\"-171.3\" font-family=\"Times,serif\" font-size=\"14.00\">●</text>\n",
       "<polygon fill=\"none\" stroke=\"black\" points=\"170,-150 170,-175 193,-175 193,-150 170,-150\"/>\n",
       "<text text-anchor=\"start\" x=\"175\" y=\"-158.8\" font-family=\"Times,serif\" font-size=\"14.00\">●</text>\n",
       "</g>\n",
       "<!-- cluster_Arbiter_io_fifo_valid&#45;&gt;op_and_17 -->\n",
       "<g id=\"edge5\" class=\"edge\">\n",
       "<title>cluster_Arbiter_io_fifo_valid&#45;&gt;op_and_17:in1</title>\n",
       "<path fill=\"none\" stroke=\"black\" d=\"M121.25,-190.95C133.3,-189.64 146.36,-188.56 158.99,-188.16\"/>\n",
       "<polygon fill=\"black\" stroke=\"black\" points=\"159.06,-191.66 169,-188 158.94,-184.66 159.06,-191.66\"/>\n",
       "</g>\n",
       "<!-- cluster_Arbiter_io_fifo_data -->\n",
       "<g id=\"node4\" class=\"node\">\n",
       "<title>cluster_Arbiter_io_fifo_data</title>\n",
       "<polygon fill=\"#cccccc\" stroke=\"black\" points=\"119.5,-280 22.5,-280 22.5,-244 119.5,-244 119.5,-280\"/>\n",
       "<text text-anchor=\"middle\" x=\"71\" y=\"-258.3\" font-family=\"Times,serif\" font-size=\"14.00\">io_fifo_data</text>\n",
       "</g>\n",
       "<!-- cluster_Arbiter_io_pe0_data -->\n",
       "<g id=\"node9\" class=\"node\">\n",
       "<title>cluster_Arbiter_io_pe0_data</title>\n",
       "<polygon fill=\"#e0ffff\" stroke=\"black\" points=\"266.5,-334 165.5,-334 165.5,-298 266.5,-298 266.5,-334\"/>\n",
       "<text text-anchor=\"middle\" x=\"216\" y=\"-312.3\" font-family=\"Times,serif\" font-size=\"14.00\">io_pe0_data</text>\n",
       "</g>\n",
       "<!-- cluster_Arbiter_io_fifo_data&#45;&gt;cluster_Arbiter_io_pe0_data -->\n",
       "<g id=\"edge14\" class=\"edge\">\n",
       "<title>cluster_Arbiter_io_fifo_data&#45;&gt;cluster_Arbiter_io_pe0_data</title>\n",
       "<path fill=\"none\" stroke=\"black\" d=\"M119.62,-279.98C131.79,-284.58 145,-289.57 157.61,-294.33\"/>\n",
       "<polygon fill=\"black\" stroke=\"black\" points=\"156.51,-297.65 167.1,-297.91 158.98,-291.11 156.51,-297.65\"/>\n",
       "</g>\n",
       "<!-- cluster_Arbiter_io_pe1_data -->\n",
       "<g id=\"node11\" class=\"node\">\n",
       "<title>cluster_Arbiter_io_pe1_data</title>\n",
       "<polygon fill=\"#e0ffff\" stroke=\"black\" points=\"266.5,-388 165.5,-388 165.5,-352 266.5,-352 266.5,-388\"/>\n",
       "<text text-anchor=\"middle\" x=\"216\" y=\"-366.3\" font-family=\"Times,serif\" font-size=\"14.00\">io_pe1_data</text>\n",
       "</g>\n",
       "<!-- cluster_Arbiter_io_fifo_data&#45;&gt;cluster_Arbiter_io_pe1_data -->\n",
       "<g id=\"edge3\" class=\"edge\">\n",
       "<title>cluster_Arbiter_io_fifo_data&#45;&gt;cluster_Arbiter_io_pe1_data</title>\n",
       "<path fill=\"none\" stroke=\"black\" d=\"M113.82,-280.08C118.15,-282.77 122.31,-285.74 126,-289 147.62,-308.09 140.45,-323.83 162,-343 163.13,-344.01 164.31,-344.99 165.52,-345.94\"/>\n",
       "<polygon fill=\"black\" stroke=\"black\" points=\"163.76,-348.98 173.95,-351.85 167.77,-343.24 163.76,-348.98\"/>\n",
       "</g>\n",
       "<!-- cluster_Arbiter_io_pe0_ready -->\n",
       "<g id=\"node5\" class=\"node\">\n",
       "<title>cluster_Arbiter_io_pe0_ready</title>\n",
       "<polygon fill=\"#cccccc\" stroke=\"black\" points=\"126,-127 16,-127 16,-91 126,-91 126,-127\"/>\n",
       "<text text-anchor=\"middle\" x=\"71\" y=\"-105.3\" font-family=\"Times,serif\" font-size=\"14.00\">io_pe0_ready</text>\n",
       "</g>\n",
       "<!-- op_or_14 -->\n",
       "<g id=\"node12\" class=\"node\">\n",
       "<title>op_or_14</title>\n",
       "<polygon fill=\"#d8bfd8\" stroke=\"transparent\" points=\"175.5,-20 175.5,-70 256.5,-70 256.5,-20 175.5,-20\"/>\n",
       "<polygon fill=\"none\" stroke=\"black\" points=\"176,-45 176,-70 199,-70 199,-45 176,-45\"/>\n",
       "<text text-anchor=\"start\" x=\"181\" y=\"-53.8\" font-family=\"Times,serif\" font-size=\"14.00\">●</text>\n",
       "<polygon fill=\"none\" stroke=\"black\" points=\"199,-20 199,-70 234,-70 234,-20 199,-20\"/>\n",
       "<text text-anchor=\"start\" x=\"204\" y=\"-41.3\" font-family=\"Times,serif\" font-size=\"14.00\"> or </text>\n",
       "<polygon fill=\"none\" stroke=\"black\" points=\"234,-20 234,-70 257,-70 257,-20 234,-20\"/>\n",
       "<text text-anchor=\"start\" x=\"239\" y=\"-41.3\" font-family=\"Times,serif\" font-size=\"14.00\">●</text>\n",
       "<polygon fill=\"none\" stroke=\"black\" points=\"176,-20 176,-45 199,-45 199,-20 176,-20\"/>\n",
       "<text text-anchor=\"start\" x=\"181\" y=\"-28.8\" font-family=\"Times,serif\" font-size=\"14.00\">●</text>\n",
       "</g>\n",
       "<!-- cluster_Arbiter_io_pe0_ready&#45;&gt;op_or_14 -->\n",
       "<g id=\"edge10\" class=\"edge\">\n",
       "<title>cluster_Arbiter_io_pe0_ready&#45;&gt;op_or_14:in1</title>\n",
       "<path fill=\"none\" stroke=\"black\" d=\"M101.19,-90.88C121.29,-78.97 147.38,-64.71 164.64,-59.78\"/>\n",
       "<polygon fill=\"black\" stroke=\"black\" points=\"165.74,-63.14 175,-58 164.55,-56.24 165.74,-63.14\"/>\n",
       "</g>\n",
       "<!-- cluster_Arbiter_io_pe0_ready&#45;&gt;op_and_15 -->\n",
       "<g id=\"edge7\" class=\"edge\">\n",
       "<title>cluster_Arbiter_io_pe0_ready&#45;&gt;op_and_15:in2</title>\n",
       "<path fill=\"none\" stroke=\"black\" d=\"M87.87,-127.14C98.65,-139.49 113.21,-156.2 126,-171 142.07,-189.6 143.4,-196.92 162,-213 165.66,-216.16 170.23,-216.73 173.97,-217.62\"/>\n",
       "<polygon fill=\"black\" stroke=\"black\" points=\"171.57,-220.17 181,-225 176.64,-215.34 171.57,-220.17\"/>\n",
       "</g>\n",
       "<!-- op_not_18 -->\n",
       "<g id=\"node16\" class=\"node\">\n",
       "<title>op_not_18</title>\n",
       "<polygon fill=\"#d8bfd8\" stroke=\"transparent\" points=\"171.5,-97.5 171.5,-122.5 260.5,-122.5 260.5,-97.5 171.5,-97.5\"/>\n",
       "<polygon fill=\"none\" stroke=\"black\" points=\"172,-97 172,-122 195,-122 195,-97 172,-97\"/>\n",
       "<text text-anchor=\"start\" x=\"177\" y=\"-105.8\" font-family=\"Times,serif\" font-size=\"14.00\">●</text>\n",
       "<polygon fill=\"none\" stroke=\"black\" points=\"195,-97 195,-122 238,-122 238,-97 195,-97\"/>\n",
       "<text text-anchor=\"start\" x=\"200\" y=\"-105.8\" font-family=\"Times,serif\" font-size=\"14.00\"> not </text>\n",
       "<polygon fill=\"none\" stroke=\"black\" points=\"238,-97 238,-122 261,-122 261,-97 238,-97\"/>\n",
       "<text text-anchor=\"start\" x=\"243\" y=\"-105.8\" font-family=\"Times,serif\" font-size=\"14.00\">●</text>\n",
       "</g>\n",
       "<!-- cluster_Arbiter_io_pe0_ready&#45;&gt;op_not_18 -->\n",
       "<g id=\"edge8\" class=\"edge\">\n",
       "<title>cluster_Arbiter_io_pe0_ready&#45;&gt;op_not_18:in1</title>\n",
       "<path fill=\"none\" stroke=\"black\" d=\"M126.21,-109C137.46,-109 149.41,-109 160.97,-109\"/>\n",
       "<polygon fill=\"black\" stroke=\"black\" points=\"161,-112.5 171,-109 161,-105.5 161,-112.5\"/>\n",
       "</g>\n",
       "<!-- cluster_Arbiter_io_pe1_ready -->\n",
       "<g id=\"node6\" class=\"node\">\n",
       "<title>cluster_Arbiter_io_pe1_ready</title>\n",
       "<polygon fill=\"#cccccc\" stroke=\"black\" points=\"126,-63 16,-63 16,-27 126,-27 126,-63\"/>\n",
       "<text text-anchor=\"middle\" x=\"71\" y=\"-41.3\" font-family=\"Times,serif\" font-size=\"14.00\">io_pe1_ready</text>\n",
       "</g>\n",
       "<!-- cluster_Arbiter_io_pe1_ready&#45;&gt;op_or_14 -->\n",
       "<g id=\"edge6\" class=\"edge\">\n",
       "<title>cluster_Arbiter_io_pe1_ready&#45;&gt;op_or_14:in2</title>\n",
       "<path fill=\"none\" stroke=\"black\" d=\"M126.1,-35.59C138.5,-33.98 151.85,-32.68 164.76,-32.2\"/>\n",
       "<polygon fill=\"black\" stroke=\"black\" points=\"165.07,-35.69 175,-32 164.93,-28.69 165.07,-35.69\"/>\n",
       "</g>\n",
       "<!-- cluster_Arbiter_io_pe1_ready&#45;&gt;op_and_17 -->\n",
       "<g id=\"edge13\" class=\"edge\">\n",
       "<title>cluster_Arbiter_io_pe1_ready&#45;&gt;op_and_17:in2</title>\n",
       "<path fill=\"none\" stroke=\"black\" d=\"M102.77,-63.04C110.82,-68.55 119.16,-75.02 126,-82 146.44,-102.88 141.17,-116.51 162,-137 165.45,-140.39 170.01,-140.97 173.81,-141.8\"/>\n",
       "<polygon fill=\"black\" stroke=\"black\" points=\"171.46,-144.4 181,-149 176.41,-139.45 171.46,-144.4\"/>\n",
       "</g>\n",
       "<!-- cluster_Arbiter_io_fifo_ready -->\n",
       "<g id=\"node7\" class=\"node\">\n",
       "<title>cluster_Arbiter_io_fifo_ready</title>\n",
       "<polygon fill=\"#e0ffff\" stroke=\"black\" points=\"413,-63 307,-63 307,-27 413,-27 413,-63\"/>\n",
       "<text text-anchor=\"middle\" x=\"360\" y=\"-41.3\" font-family=\"Times,serif\" font-size=\"14.00\">io_fifo_ready</text>\n",
       "</g>\n",
       "<!-- cluster_Arbiter_io_pe0_valid -->\n",
       "<g id=\"node8\" class=\"node\">\n",
       "<title>cluster_Arbiter_io_pe0_valid</title>\n",
       "<polygon fill=\"#e0ffff\" stroke=\"black\" points=\"412,-269 308,-269 308,-233 412,-233 412,-269\"/>\n",
       "<text text-anchor=\"middle\" x=\"360\" y=\"-247.3\" font-family=\"Times,serif\" font-size=\"14.00\">io_pe0_valid</text>\n",
       "</g>\n",
       "<!-- cluster_Arbiter_io_pe1_valid -->\n",
       "<g id=\"node10\" class=\"node\">\n",
       "<title>cluster_Arbiter_io_pe1_valid</title>\n",
       "<polygon fill=\"#e0ffff\" stroke=\"black\" points=\"554,-160 450,-160 450,-124 554,-124 554,-160\"/>\n",
       "<text text-anchor=\"middle\" x=\"502\" y=\"-138.3\" font-family=\"Times,serif\" font-size=\"14.00\">io_pe1_valid</text>\n",
       "</g>\n",
       "<!-- op_or_14&#45;&gt;cluster_Arbiter_io_fifo_ready -->\n",
       "<g id=\"edge1\" class=\"edge\">\n",
       "<title>op_or_14:out&#45;&gt;cluster_Arbiter_io_fifo_ready</title>\n",
       "<path fill=\"none\" stroke=\"black\" d=\"M258,-45C270.52,-45 283.92,-45 296.72,-45\"/>\n",
       "<polygon fill=\"black\" stroke=\"black\" points=\"296.84,-48.5 306.84,-45 296.84,-41.5 296.84,-48.5\"/>\n",
       "</g>\n",
       "<!-- op_and_15&#45;&gt;cluster_Arbiter_io_pe0_valid -->\n",
       "<g id=\"edge9\" class=\"edge\">\n",
       "<title>op_and_15:out&#45;&gt;cluster_Arbiter_io_pe0_valid</title>\n",
       "<path fill=\"none\" stroke=\"black\" d=\"M263,-251C274.1,-251 285.93,-251 297.34,-251\"/>\n",
       "<polygon fill=\"black\" stroke=\"black\" points=\"297.68,-254.5 307.68,-251 297.68,-247.5 297.68,-254.5\"/>\n",
       "</g>\n",
       "<!-- op_and_16 -->\n",
       "<g id=\"node14\" class=\"node\">\n",
       "<title>op_and_16</title>\n",
       "<polygon fill=\"#d8bfd8\" stroke=\"transparent\" points=\"314,-117 314,-167 406,-167 406,-117 314,-117\"/>\n",
       "<polygon fill=\"none\" stroke=\"black\" points=\"314,-142 314,-167 337,-167 337,-142 314,-142\"/>\n",
       "<text text-anchor=\"start\" x=\"319\" y=\"-150.8\" font-family=\"Times,serif\" font-size=\"14.00\">●</text>\n",
       "<polygon fill=\"none\" stroke=\"black\" points=\"337,-117 337,-167 383,-167 383,-117 337,-117\"/>\n",
       "<text text-anchor=\"start\" x=\"342\" y=\"-138.3\" font-family=\"Times,serif\" font-size=\"14.00\"> and </text>\n",
       "<polygon fill=\"none\" stroke=\"black\" points=\"383,-117 383,-167 406,-167 406,-117 383,-117\"/>\n",
       "<text text-anchor=\"start\" x=\"388\" y=\"-138.3\" font-family=\"Times,serif\" font-size=\"14.00\">●</text>\n",
       "<polygon fill=\"none\" stroke=\"black\" points=\"314,-117 314,-142 337,-142 337,-117 314,-117\"/>\n",
       "<text text-anchor=\"start\" x=\"319\" y=\"-125.8\" font-family=\"Times,serif\" font-size=\"14.00\">●</text>\n",
       "</g>\n",
       "<!-- op_and_16&#45;&gt;cluster_Arbiter_io_pe1_valid -->\n",
       "<g id=\"edge4\" class=\"edge\">\n",
       "<title>op_and_16:out&#45;&gt;cluster_Arbiter_io_pe1_valid</title>\n",
       "<path fill=\"none\" stroke=\"black\" d=\"M407,-142C417.51,-142 428.69,-142 439.52,-142\"/>\n",
       "<polygon fill=\"black\" stroke=\"black\" points=\"439.78,-145.5 449.78,-142 439.77,-138.5 439.78,-145.5\"/>\n",
       "</g>\n",
       "<!-- op_and_17&#45;&gt;op_and_16 -->\n",
       "<g id=\"edge2\" class=\"edge\">\n",
       "<title>op_and_17:out&#45;&gt;op_and_16:in1</title>\n",
       "<path fill=\"none\" stroke=\"black\" d=\"M263,-175C283.01,-175 287.78,-161.02 302.79,-156.44\"/>\n",
       "<polygon fill=\"black\" stroke=\"black\" points=\"303.59,-159.86 313,-155 302.61,-152.93 303.59,-159.86\"/>\n",
       "</g>\n",
       "<!-- op_not_18&#45;&gt;op_and_16 -->\n",
       "<g id=\"edge11\" class=\"edge\">\n",
       "<title>op_not_18:out&#45;&gt;op_and_16:in2</title>\n",
       "<path fill=\"none\" stroke=\"black\" d=\"M262,-109C282.54,-109 287.39,-123.24 303.03,-127.69\"/>\n",
       "<polygon fill=\"black\" stroke=\"black\" points=\"302.63,-131.16 313,-129 303.54,-124.22 302.63,-131.16\"/>\n",
       "</g>\n",
       "</g>\n",
       "</svg>\n",
       "</div>"
      ]
     },
     "metadata": {},
     "output_type": "display_data"
    },
    {
     "name": "stdout",
     "output_type": "stream",
     "text": [
      "Elaborating design...\n",
      "Done elaborating.\n",
      "test Arbiter Success: 0 tests passed in 2 cycles in 0.006388 seconds 313.10 Hz\n",
      "SUCCESS!!\n"
     ]
    },
    {
     "data": {
      "text/plain": [
       "defined \u001b[32mclass\u001b[39m \u001b[36mArbiter\u001b[39m"
      ]
     },
     "execution_count": 23,
     "metadata": {},
     "output_type": "execute_result"
    }
   ],
   "source": [
    "class Arbiter extends Module {\n",
    "  val io = IO(new Bundle {\n",
    "    // FIFO\n",
    "    val fifo_valid = Input(Bool())\n",
    "    val fifo_ready = Output(Bool())\n",
    "    val fifo_data  = Input(UInt(16.W))\n",
    "    \n",
    "    // PE0\n",
    "    val pe0_valid  = Output(Bool())\n",
    "    val pe0_ready  = Input(Bool())\n",
    "    val pe0_data   = Output(UInt(16.W))\n",
    "    \n",
    "    // PE1\n",
    "    val pe1_valid  = Output(Bool())\n",
    "    val pe1_ready  = Input(Bool())\n",
    "    val pe1_data   = Output(UInt(16.W))\n",
    "  })\n",
    "  io.fifo_ready := io.pe0_ready || io.pe1_ready\n",
    "  io.pe0_valid := io.fifo_valid && io.pe0_ready\n",
    "  io.pe1_valid := io.fifo_valid && io.pe1_ready && !io.pe0_ready\n",
    "  io.pe0_data := io.fifo_data\n",
    "  io.pe1_data := io.fifo_data\n",
    "  \n",
    "}\n",
    "// visualize(() => new Arbiter)\n",
    "test(new Arbiter) { c =>\n",
    "  import scala.util.Random\n",
    "  val data = Random.nextInt(65536)\n",
    "  c.io.fifo_data.poke(data.U)\n",
    "  \n",
    "  for (i <- 0 until 8) {\n",
    "    c.io.fifo_valid.poke((((i >> 0) % 2) != 0).B)\n",
    "    c.io.pe0_ready.poke((((i >> 1) % 2) != 0).B)\n",
    "    c.io.pe1_ready.poke((((i >> 2) % 2) != 0).B)\n",
    "\n",
    "    c.io.fifo_ready.expect((i > 1).B)\n",
    "    c.io.pe0_valid.expect((i == 3 || i == 7).B)\n",
    "    c.io.pe1_valid.expect((i == 5).B)\n",
    "    \n",
    "    if (i == 3 || i ==7) {\n",
    "      c.io.pe0_data.expect((data).U)\n",
    "    } else if (i == 5) {\n",
    "      c.io.pe1_data.expect((data).U)\n",
    "    }\n",
    "  }\n",
    "}\n",
    "println(\"SUCCESS!!\")"
   ]
  },
  {
   "cell_type": "markdown",
   "metadata": {},
   "source": [
    "<div id=\"container\"><section id=\"accordion\"><div>\n",
    "<input type=\"checkbox\" id=\"check-2\" />\n",
    "<label for=\"check-2\"><strong>Solution</strong></label>\n",
    "<article>\n",
    "<pre style=\"background-color:#f7f7f7\">\n",
    "  io.fifo_ready := io.pe0_ready || io.pe1_ready\n",
    "  io.pe0_valid := io.fifo_valid && io.pe0_ready\n",
    "  io.pe1_valid := io.fifo_valid && io.pe1_ready && !io.pe0_ready\n",
    "  io.pe0_data := io.fifo_data\n",
    "  io.pe1_data := io.fifo_data\n",
    "</pre></article></div></section></div>"
   ]
  },
  {
   "cell_type": "markdown",
   "metadata": {},
   "source": [
    "<span style=\"color:red\">**Exercise: Parameterized Adder (Optional)**</span><br>\n",
    "This optional exercise exposes you to one of the most powerful features of Chisel, it's parameterization capabilities. To demonstrate this, we'll construct a parameterized adder that can either saturate the output when overflow occurs, or truncate the results (i.e. wrap around).\n",
    "\n",
    "First, look at the `Module` below. The parameter we pass into it is called `saturate` and has type *Scala* `Boolean`. This is not a Chisel `Bool`. So, we're not creating a single hardware adder that can either saturate or truncate, but rather we're creating a *generator* that produces either a saturating hardware adder *or* a truncating hardware adder. The decision is made at compile time.\n",
    "\n",
    "Next, notice the inputs and outputs are all 4-bit `UInt`s. Chisel has built-in width inferencing, and if you look at the [cheatsheet](https://github.com/freechipsproject/chisel-cheatsheet/releases/latest/download/chisel_cheatsheet.pdf), you'll see that the bitwidth of a normal summation is equal to the maximum bitwidth of the two inputs. This means that\n",
    "\n",
    "```scala\n",
    "val sum = io.in_a + io.in_b\n",
    "```\n",
    "\n",
    "will make `sum` a 4-bit wire, and the value will be the truncated result for 4-bit inputs. To check if the summation should saturate, you need to place the result in a 5-bit wire. This can be done with the `+&` summation, as seen on the cheatsheet.\n",
    "\n",
    "```scala\n",
    "val sum = io.in_a +& io.in_b\n",
    "```\n",
    "\n",
    "Finally, note that connecting a 4-bit `UInt` wire to a 5-bit `UInt` wire will truncate the MSB by default. You can use this to easily truncate the 5-bit sum for the non-saturating adder."
   ]
  },
  {
   "cell_type": "code",
   "execution_count": 25,
   "metadata": {},
   "outputs": [
    {
     "name": "stdout",
     "output_type": "stream",
     "text": [
      "Elaborating design...\n",
      "UInt<5>(OpResult in ParameterizedAdder)\n",
      "UInt<4>(OpResult in ParameterizedAdder)\n",
      "Done elaborating.\n",
      "test ParameterizedAdder Success: 0 tests passed in 2 cycles in 0.010343 seconds 193.36 Hz\n",
      "Elaborating design...\n",
      "UInt<5>(OpResult in ParameterizedAdder)\n",
      "UInt<4>(OpResult in ParameterizedAdder)\n",
      "Done elaborating.\n",
      "test ParameterizedAdder Success: 0 tests passed in 2 cycles in 0.006514 seconds 307.01 Hz\n",
      "SUCCESS!!\n"
     ]
    },
    {
     "data": {
      "text/plain": [
       "defined \u001b[32mclass\u001b[39m \u001b[36mParameterizedAdder\u001b[39m"
      ]
     },
     "execution_count": 25,
     "metadata": {},
     "output_type": "execute_result"
    }
   ],
   "source": [
    "class ParameterizedAdder(saturate: Boolean) extends Module {\n",
    "  val io = IO(new Bundle {\n",
    "    val in_a = Input(UInt(4.W))\n",
    "    val in_b = Input(UInt(4.W))\n",
    "    val out  = Output(UInt(4.W))\n",
    "  })\n",
    "\n",
    "  val sum = io.in_a +& io.in_b\n",
    "  val noSum = io.in_a + io.in_b\n",
    "  if (saturate) {\n",
    "    io.out := Mux(sum > 15.U, 15.U, sum)\n",
    "  } else {\n",
    "    io.out := sum\n",
    "  }\n",
    "}\n",
    "\n",
    "for (saturate <- Seq(true, false)) {\n",
    "  test(new ParameterizedAdder(saturate)) { c =>\n",
    "    // 100 random tests\n",
    "    val cycles = 100\n",
    "    import scala.util.Random\n",
    "    import scala.math.min\n",
    "    for (i <- 0 until cycles) {\n",
    "      val in_a = Random.nextInt(16)\n",
    "      val in_b = Random.nextInt(16)\n",
    "      c.io.in_a.poke(in_a.U)\n",
    "      c.io.in_b.poke(in_b.U)\n",
    "      if (saturate) {\n",
    "        c.io.out.expect(min(in_a + in_b, 15).U)\n",
    "      } else {\n",
    "        c.io.out.expect(((in_a + in_b) % 16).U)\n",
    "      }\n",
    "    }\n",
    "    \n",
    "    // ensure we test saturation vs. truncation\n",
    "    c.io.in_a.poke(15.U)\n",
    "    c.io.in_b.poke(15.U)\n",
    "    if (saturate) {\n",
    "      c.io.out.expect(15.U)\n",
    "    } else {\n",
    "      c.io.out.expect(14.U)\n",
    "    }\n",
    "  }\n",
    "}\n",
    "println(\"SUCCESS!!\")"
   ]
  },
  {
   "cell_type": "markdown",
   "metadata": {},
   "source": [
    "<div id=\"container\"><section id=\"accordion\"><div>\n",
    "<input type=\"checkbox\" id=\"check-3\" />\n",
    "<label for=\"check-3\"><strong>Solution</strong></label>\n",
    "<article>\n",
    "<pre style=\"background-color:#f7f7f7\">\n",
    "  val sum = io.in_a +& io.in_b\n",
    "  if (saturate) {\n",
    "    io.out := Mux(sum > 15.U, 15.U, sum)\n",
    "  } else {\n",
    "    io.out := sum\n",
    "  }\n",
    "</pre></article></div></section></div>"
   ]
  },
  {
   "cell_type": "markdown",
   "metadata": {},
   "source": [
    "---\n",
    "# You're done!\n",
    "\n",
    "[Return to the top.](#top)"
   ]
  }
 ],
 "metadata": {
  "kernelspec": {
   "display_name": "Scala",
   "language": "scala",
   "name": "scala"
  },
  "language_info": {
   "codemirror_mode": "text/x-scala",
   "file_extension": ".scala",
   "mimetype": "text/x-scala",
   "name": "scala",
   "nbconvert_exporter": "script",
   "version": "2.12.10"
  }
 },
 "nbformat": 4,
 "nbformat_minor": 2
}
